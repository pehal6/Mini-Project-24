{
  "nbformat": 4,
  "nbformat_minor": 0,
  "metadata": {
    "colab": {
      "provenance": []
    },
    "kernelspec": {
      "name": "python3",
      "display_name": "Python 3"
    },
    "language_info": {
      "name": "python"
    }
  },
  "cells": [
    {
      "cell_type": "code",
      "source": [
        "import cv2, os, numpy as np\n",
        "\n",
        "os.makedirs(\"input_images\", exist_ok=True)\n",
        "\n",
        "for i in range(100):\n",
        "    img = np.random.randint(0, 256, (400, 400, 3), dtype=np.uint8)\n",
        "    cv2.imwrite(f\"input_images/img_{i+1}.jpg\", img)\n",
        "\n",
        "print(\"100 colorful images created in 'input_images'\")\n"
      ],
      "metadata": {
        "colab": {
          "base_uri": "https://localhost:8080/"
        },
        "id": "T-OfIFjJNz3U",
        "outputId": "91977a5b-188a-4c45-a60c-0383e0bcb550"
      },
      "execution_count": 10,
      "outputs": [
        {
          "output_type": "stream",
          "name": "stdout",
          "text": [
            "100 colorful images created in 'input_images'\n"
          ]
        }
      ]
    },
    {
      "cell_type": "code",
      "source": [
        "import cv2\n",
        "import os\n",
        "\n",
        "os.makedirs(\"resized_images\", exist_ok=True)\n",
        "\n",
        "for file in os.listdir(\"input_images\"):\n",
        "    path = os.path.join(\"input_images\", file)\n",
        "    img = cv2.imread(path)\n",
        "\n",
        "    if img is None:\n",
        "        print(f\"Warning: Could not read image file: {file}. Skipping.\")\n",
        "        continue\n",
        "\n",
        "    resized = cv2.resize(img, (img.shape[1]//2, img.shape[0]//2))\n",
        "    cv2.imwrite(f\"resized_images/{file}\", resized)\n",
        "\n",
        "print(\"All valid images resized to 50% in 'resized_images'\")"
      ],
      "metadata": {
        "colab": {
          "base_uri": "https://localhost:8080/"
        },
        "id": "nMUhT8Crnjfw",
        "outputId": "85e71bec-3585-4b14-a1e8-ca63103666d2"
      },
      "execution_count": 12,
      "outputs": [
        {
          "output_type": "stream",
          "name": "stdout",
          "text": [
            "Warning: Could not read image file: __MACOSX. Skipping.\n",
            "All valid images resized to 50% in 'resized_images'\n"
          ]
        }
      ]
    }
  ]
}